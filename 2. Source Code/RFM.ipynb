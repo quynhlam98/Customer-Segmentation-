version https://git-lfs.github.com/spec/v1
oid sha256:eef0d7baea1d7c0dd07355ce187bbb2bfce01aca5403ef9893843cccfa70be1a
size 2038264
